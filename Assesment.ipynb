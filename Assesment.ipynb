{
 "cells": [
  {
   "cell_type": "markdown",
   "id": "d7814b56-d248-4f67-aefa-0cffebe1ea17",
   "metadata": {},
   "source": [
    "# Introduction\n",
    "# Python\n",
    "Python is a programming language which can be used on a server to create web applications"
   ]
  },
  {
   "cell_type": "code",
   "execution_count": 1,
   "id": "56050b9f-3e89-4275-8b2f-cdf70fdc0435",
   "metadata": {},
   "outputs": [
    {
     "name": "stdout",
     "output_type": "stream",
     "text": [
      "Hello World\n"
     ]
    }
   ],
   "source": [
    "#python Syntax\n",
    "print(\"Hello World\")"
   ]
  },
  {
   "cell_type": "code",
   "execution_count": 2,
   "id": "8f8642c6-46cf-4a56-95cb-710a2692c64d",
   "metadata": {},
   "outputs": [
    {
     "name": "stdout",
     "output_type": "stream",
     "text": [
      "<class 'int'>\n",
      "<class 'float'>\n",
      "<class 'str'>\n"
     ]
    }
   ],
   "source": [
    "#python Data Types\n",
    "x=5\n",
    "y=5.0\n",
    "z=\"Tosin\"\n",
    "print(type(x))\n",
    "print(type(y))\n",
    "print(type(z))"
   ]
  },
  {
   "cell_type": "markdown",
   "id": "a6eb017a-c174-4939-a5ac-84709a6e68fc",
   "metadata": {},
   "source": [
    "# Python comment is preceded by \"#\". This symbol helps to differentiate between a code and a comment"
   ]
  },
  {
   "cell_type": "code",
   "execution_count": 3,
   "id": "d3798315-b826-46b5-b4a1-9869c7d66398",
   "metadata": {},
   "outputs": [
    {
     "name": "stdout",
     "output_type": "stream",
     "text": [
      "['Orange', 'Apple', 'Banana']\n"
     ]
    }
   ],
   "source": [
    "#Python Lists\n",
    "my_list=[\"Orange\", \"Apple\", \"Banana\"]\n",
    "print(my_list)"
   ]
  },
  {
   "cell_type": "code",
   "execution_count": 5,
   "id": "54a7142b-864c-4cca-bee7-80b233e8f42d",
   "metadata": {},
   "outputs": [
    {
     "name": "stdout",
     "output_type": "stream",
     "text": [
      "Apple\n"
     ]
    }
   ],
   "source": [
    "#python-access list items\n",
    "print(my_list[1])"
   ]
  },
  {
   "cell_type": "code",
   "execution_count": 6,
   "id": "0e5792e7-f6f2-4039-8128-b5e520d41032",
   "metadata": {},
   "outputs": [
    {
     "name": "stdout",
     "output_type": "stream",
     "text": [
      "Orange\n"
     ]
    }
   ],
   "source": [
    "print(my_list[0])"
   ]
  },
  {
   "cell_type": "code",
   "execution_count": 7,
   "id": "5d51a814-2d71-406c-86d4-61e46b139b3a",
   "metadata": {},
   "outputs": [
    {
     "name": "stdout",
     "output_type": "stream",
     "text": [
      "['Orange', 'Mango', 'Banana']\n"
     ]
    }
   ],
   "source": [
    "#Python- change list item\n",
    "my_list=[\"Orange\", \"Apple\", \"Banana\"]\n",
    "my_list[1]=\"Mango\"\n",
    "print(my_list)"
   ]
  },
  {
   "cell_type": "markdown",
   "id": "6301020e-0e30-44bc-b47b-42a1c36b44ff",
   "metadata": {},
   "source": [
    "# Python - Add list items\n",
    "To add items, use \"append() method\""
   ]
  },
  {
   "cell_type": "code",
   "execution_count": null,
   "id": "11b06616-0c28-4ce4-bcaf-029fafe1914f",
   "metadata": {},
   "outputs": [],
   "source": [
    "my_list=[\"Orange\", \"mango\", \"Banana\"]\n",
    "mylist.append(Carrot)\n",
    "print(my)"
   ]
  },
  {
   "cell_type": "code",
   "execution_count": null,
   "id": "945bd470-e118-4a32-997c-05d714793abe",
   "metadata": {},
   "outputs": [],
   "source": []
  }
 ],
 "metadata": {
  "kernelspec": {
   "display_name": "Python 3 (ipykernel)",
   "language": "python",
   "name": "python3"
  },
  "language_info": {
   "codemirror_mode": {
    "name": "ipython",
    "version": 3
   },
   "file_extension": ".py",
   "mimetype": "text/x-python",
   "name": "python",
   "nbconvert_exporter": "python",
   "pygments_lexer": "ipython3",
   "version": "3.11.7"
  }
 },
 "nbformat": 4,
 "nbformat_minor": 5
}
